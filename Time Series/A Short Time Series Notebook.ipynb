{
 "cells": [
  {
   "cell_type": "markdown",
   "id": "e39307d9",
   "metadata": {},
   "source": [
    "# A TIME SERIES NOTEBOOK\n"
   ]
  },
  {
   "cell_type": "markdown",
   "id": "423a83b8",
   "metadata": {},
   "source": [
    "A time series is a series of data points indexed in time order. Most commonly, a time series is a sequence taken at successive equally spaced points in time. Thus it is a sequence of discrete-time data.Time series analysis is extensively used to forecast company sales, product demand, stock market trends, agricultural production etc.The fundamental idea for time series analysis is to decompose the original time series into several independent components.\n",
    "Example - sales, stock market trends etc... \n",
    " "
   ]
  },
  {
   "cell_type": "markdown",
   "id": "59ffe96b",
   "metadata": {},
   "source": [
    "### Terms to be known in Time Series"
   ]
  },
  {
   "cell_type": "markdown",
   "id": "7382598e",
   "metadata": {},
   "source": [
    "Time series analysis is to decompose the original time series into several independent components.\n",
    "\n",
    "Typically, business time series are divided into the following four components:\n",
    "\n",
    "- Trend – overall direction of the series i.e. upwards, downwards etc.\n",
    "\n",
    "- Seasonality – monthly or quarterly patterns.\n",
    "\n",
    "- Cycle – long-term business cycles, they usually come after 5 or 7 years.\n",
    "\n",
    "- Irregular remainder – random noise left after extraction of all the components\n"
   ]
  },
  {
   "cell_type": "markdown",
   "id": "eda79a4a",
   "metadata": {},
   "source": [
    "The Time Series mining function provides the following algorithms to predict future trends:\n",
    "- Autoregressive Integrated Moving Average (ARIMA)\n",
    "- Exponential Smoothing\n",
    "- Seasonal Trend Decomposition"
   ]
  },
  {
   "cell_type": "markdown",
   "id": "fcff05dc",
   "metadata": {},
   "source": [
    "### Time Series Model Performance Checking"
   ]
  },
  {
   "cell_type": "markdown",
   "id": "ba263af5",
   "metadata": {},
   "source": [
    "- Mean Forcast Error\n",
    "- Mean absolute Error\n",
    "- Root Mean Squared Error\n",
    "- Mean Squared error"
   ]
  },
  {
   "cell_type": "markdown",
   "id": "38d10b44",
   "metadata": {},
   "source": [
    "### Types of data in Time Series\n"
   ]
  },
  {
   "cell_type": "raw",
   "id": "85921671",
   "metadata": {},
   "source": [
    "There are two types of data in time series forecasting , they are \n",
    "    -> Stationary Data \n",
    "    -> Non Stationary Data \n",
    "How to find a data is stationary ?\n",
    "     - A Stationary series has constant mean and variance over time.\n",
    "     - A Stationary data set will allow our model to predict that the mean and variance will be the same in future periods."
   ]
  },
  {
   "cell_type": "markdown",
   "id": "933f1dc9",
   "metadata": {},
   "source": [
    "### Stationarize a Time Series"
   ]
  },
  {
   "cell_type": "raw",
   "id": "e80e9461",
   "metadata": {},
   "source": [
    "Before models forecasting can be applied, the series must be transformed into a stationary time series.The Augmented-Dickey Fuller Test can be used to test whether or not a given time series is stationary.If the test statistic is smaller than the critical value, the hypothesis is rejected, the series would be stationary, and no further transformations of the data would be required.When the residuals (errors) in a time series are correlated with each other it is said to exhibit serial correlation.Autocorrelation is a better measurement for the dependency structure, because the autocovariacne will be affected by the underlying units of measurement for the observation."
   ]
  },
  {
   "cell_type": "raw",
   "id": "b5df3ef7",
   "metadata": {},
   "source": [
    "In this notebook we are going to predict the number of tractors sold by a particular organization.\n",
    "The algorithm used here is \"ARIMA\" . Lets have a look about the ARIMA Algorithm."
   ]
  },
  {
   "cell_type": "markdown",
   "id": "5f2ada4a",
   "metadata": {},
   "source": [
    "### ARIMA Forecasting\n",
    "\n",
    "An autoregressive integrated moving average (ARIMA) model is an generalization of an autoregressive moving average (ARMA) model.Both of these models are fitted to time series data either to better understand the data or to predict future points in the series (forecasting).\n",
    "\n",
    "ARIMA models are applied in some cases where data show evidence of non-stationarity, where an initial differencing step (corresponding to the \"integrated\" part of the model) can be applied one or more times to eliminate the non-stationarity.\n",
    "There are three parameters $(p, d, q)$ that are used to parametrize ARIMA models. Hence, an ARIMA model is denoted as $ARIMA(p, d, q)$.Each of these three parts is an effort to make the time series stationary, i. e. make the final residual a white noise pattern.\n",
    " "
   ]
  },
  {
   "cell_type": "code",
   "execution_count": 34,
   "id": "67cce0a9",
   "metadata": {},
   "outputs": [],
   "source": [
    "import numpy as np\n",
    "import pandas as pd\n",
    "import matplotlib.pyplot as plt\n",
    "import calendar"
   ]
  },
  {
   "cell_type": "code",
   "execution_count": 35,
   "id": "13c23eed",
   "metadata": {},
   "outputs": [],
   "source": [
    "dataset=pd.read_csv(\"PH-Sales.csv\")"
   ]
  },
  {
   "cell_type": "code",
   "execution_count": 36,
   "id": "52e0a7a8",
   "metadata": {},
   "outputs": [
    {
     "data": {
      "text/html": [
       "<div>\n",
       "<style scoped>\n",
       "    .dataframe tbody tr th:only-of-type {\n",
       "        vertical-align: middle;\n",
       "    }\n",
       "\n",
       "    .dataframe tbody tr th {\n",
       "        vertical-align: top;\n",
       "    }\n",
       "\n",
       "    .dataframe thead th {\n",
       "        text-align: right;\n",
       "    }\n",
       "</style>\n",
       "<table border=\"1\" class=\"dataframe\">\n",
       "  <thead>\n",
       "    <tr style=\"text-align: right;\">\n",
       "      <th></th>\n",
       "      <th>Month-Year</th>\n",
       "      <th>Number of Tractor Sold</th>\n",
       "    </tr>\n",
       "  </thead>\n",
       "  <tbody>\n",
       "    <tr>\n",
       "      <th>0</th>\n",
       "      <td>Jan-03</td>\n",
       "      <td>141</td>\n",
       "    </tr>\n",
       "    <tr>\n",
       "      <th>1</th>\n",
       "      <td>Feb-03</td>\n",
       "      <td>157</td>\n",
       "    </tr>\n",
       "    <tr>\n",
       "      <th>2</th>\n",
       "      <td>Mar-03</td>\n",
       "      <td>185</td>\n",
       "    </tr>\n",
       "    <tr>\n",
       "      <th>3</th>\n",
       "      <td>Apr-03</td>\n",
       "      <td>199</td>\n",
       "    </tr>\n",
       "    <tr>\n",
       "      <th>4</th>\n",
       "      <td>May-03</td>\n",
       "      <td>203</td>\n",
       "    </tr>\n",
       "  </tbody>\n",
       "</table>\n",
       "</div>"
      ],
      "text/plain": [
       "  Month-Year  Number of Tractor Sold\n",
       "0     Jan-03                     141\n",
       "1     Feb-03                     157\n",
       "2     Mar-03                     185\n",
       "3     Apr-03                     199\n",
       "4     May-03                     203"
      ]
     },
     "execution_count": 36,
     "metadata": {},
     "output_type": "execute_result"
    }
   ],
   "source": [
    "dataset.head()"
   ]
  },
  {
   "cell_type": "code",
   "execution_count": 39,
   "id": "2ddb116b",
   "metadata": {},
   "outputs": [],
   "source": [
    "#uding pandas date_range function generating a set of dates with frequency \"MONTHLY\" till th length of the dataset\n",
    "dates=pd.date_range(start='2003-01-01',freq='MS',periods=len(dataset))"
   ]
  },
  {
   "cell_type": "code",
   "execution_count": 40,
   "id": "be36e2a9",
   "metadata": {},
   "outputs": [
    {
     "data": {
      "text/plain": [
       "DatetimeIndex(['2003-01-01', '2003-02-01', '2003-03-01', '2003-04-01',\n",
       "               '2003-05-01', '2003-06-01', '2003-07-01', '2003-08-01',\n",
       "               '2003-09-01', '2003-10-01',\n",
       "               ...\n",
       "               '2014-03-01', '2014-04-01', '2014-05-01', '2014-06-01',\n",
       "               '2014-07-01', '2014-08-01', '2014-09-01', '2014-10-01',\n",
       "               '2014-11-01', '2014-12-01'],\n",
       "              dtype='datetime64[ns]', length=144, freq='MS')"
      ]
     },
     "execution_count": 40,
     "metadata": {},
     "output_type": "execute_result"
    }
   ],
   "source": [
    "dates"
   ]
  },
  {
   "cell_type": "code",
   "execution_count": 42,
   "id": "5140093d",
   "metadata": {},
   "outputs": [],
   "source": [
    "#adding new columns to the dataset\n",
    "dataset['month']=dates.month\n",
    "dataset['year']=dates.year"
   ]
  },
  {
   "cell_type": "code",
   "execution_count": 43,
   "id": "b8da5dbf",
   "metadata": {},
   "outputs": [
    {
     "data": {
      "text/html": [
       "<div>\n",
       "<style scoped>\n",
       "    .dataframe tbody tr th:only-of-type {\n",
       "        vertical-align: middle;\n",
       "    }\n",
       "\n",
       "    .dataframe tbody tr th {\n",
       "        vertical-align: top;\n",
       "    }\n",
       "\n",
       "    .dataframe thead th {\n",
       "        text-align: right;\n",
       "    }\n",
       "</style>\n",
       "<table border=\"1\" class=\"dataframe\">\n",
       "  <thead>\n",
       "    <tr style=\"text-align: right;\">\n",
       "      <th></th>\n",
       "      <th>Month-Year</th>\n",
       "      <th>Number of Tractor Sold</th>\n",
       "      <th>month</th>\n",
       "      <th>year</th>\n",
       "    </tr>\n",
       "  </thead>\n",
       "  <tbody>\n",
       "    <tr>\n",
       "      <th>0</th>\n",
       "      <td>Jan-03</td>\n",
       "      <td>141</td>\n",
       "      <td>1</td>\n",
       "      <td>2003</td>\n",
       "    </tr>\n",
       "    <tr>\n",
       "      <th>1</th>\n",
       "      <td>Feb-03</td>\n",
       "      <td>157</td>\n",
       "      <td>2</td>\n",
       "      <td>2003</td>\n",
       "    </tr>\n",
       "    <tr>\n",
       "      <th>2</th>\n",
       "      <td>Mar-03</td>\n",
       "      <td>185</td>\n",
       "      <td>3</td>\n",
       "      <td>2003</td>\n",
       "    </tr>\n",
       "    <tr>\n",
       "      <th>3</th>\n",
       "      <td>Apr-03</td>\n",
       "      <td>199</td>\n",
       "      <td>4</td>\n",
       "      <td>2003</td>\n",
       "    </tr>\n",
       "    <tr>\n",
       "      <th>4</th>\n",
       "      <td>May-03</td>\n",
       "      <td>203</td>\n",
       "      <td>5</td>\n",
       "      <td>2003</td>\n",
       "    </tr>\n",
       "  </tbody>\n",
       "</table>\n",
       "</div>"
      ],
      "text/plain": [
       "  Month-Year  Number of Tractor Sold  month  year\n",
       "0     Jan-03                     141      1  2003\n",
       "1     Feb-03                     157      2  2003\n",
       "2     Mar-03                     185      3  2003\n",
       "3     Apr-03                     199      4  2003\n",
       "4     May-03                     203      5  2003"
      ]
     },
     "execution_count": 43,
     "metadata": {},
     "output_type": "execute_result"
    }
   ],
   "source": [
    "dataset.head()"
   ]
  },
  {
   "cell_type": "code",
   "execution_count": 45,
   "id": "1545e1fe",
   "metadata": {},
   "outputs": [],
   "source": [
    "#changing the numerical value in the month to categorical column\n",
    "dataset['month']=dataset['month'].apply(lambda x:calendar.month_abbr[x])"
   ]
  },
  {
   "cell_type": "code",
   "execution_count": 46,
   "id": "619a91c1",
   "metadata": {},
   "outputs": [
    {
     "data": {
      "text/html": [
       "<div>\n",
       "<style scoped>\n",
       "    .dataframe tbody tr th:only-of-type {\n",
       "        vertical-align: middle;\n",
       "    }\n",
       "\n",
       "    .dataframe tbody tr th {\n",
       "        vertical-align: top;\n",
       "    }\n",
       "\n",
       "    .dataframe thead th {\n",
       "        text-align: right;\n",
       "    }\n",
       "</style>\n",
       "<table border=\"1\" class=\"dataframe\">\n",
       "  <thead>\n",
       "    <tr style=\"text-align: right;\">\n",
       "      <th></th>\n",
       "      <th>Month-Year</th>\n",
       "      <th>Number of Tractor Sold</th>\n",
       "      <th>month</th>\n",
       "      <th>year</th>\n",
       "    </tr>\n",
       "  </thead>\n",
       "  <tbody>\n",
       "    <tr>\n",
       "      <th>0</th>\n",
       "      <td>Jan-03</td>\n",
       "      <td>141</td>\n",
       "      <td>Jan</td>\n",
       "      <td>2003</td>\n",
       "    </tr>\n",
       "    <tr>\n",
       "      <th>1</th>\n",
       "      <td>Feb-03</td>\n",
       "      <td>157</td>\n",
       "      <td>Feb</td>\n",
       "      <td>2003</td>\n",
       "    </tr>\n",
       "    <tr>\n",
       "      <th>2</th>\n",
       "      <td>Mar-03</td>\n",
       "      <td>185</td>\n",
       "      <td>Mar</td>\n",
       "      <td>2003</td>\n",
       "    </tr>\n",
       "    <tr>\n",
       "      <th>3</th>\n",
       "      <td>Apr-03</td>\n",
       "      <td>199</td>\n",
       "      <td>Apr</td>\n",
       "      <td>2003</td>\n",
       "    </tr>\n",
       "    <tr>\n",
       "      <th>4</th>\n",
       "      <td>May-03</td>\n",
       "      <td>203</td>\n",
       "      <td>May</td>\n",
       "      <td>2003</td>\n",
       "    </tr>\n",
       "  </tbody>\n",
       "</table>\n",
       "</div>"
      ],
      "text/plain": [
       "  Month-Year  Number of Tractor Sold month  year\n",
       "0     Jan-03                     141   Jan  2003\n",
       "1     Feb-03                     157   Feb  2003\n",
       "2     Mar-03                     185   Mar  2003\n",
       "3     Apr-03                     199   Apr  2003\n",
       "4     May-03                     203   May  2003"
      ]
     },
     "execution_count": 46,
     "metadata": {},
     "output_type": "execute_result"
    }
   ],
   "source": [
    "dataset.head()"
   ]
  },
  {
   "cell_type": "code",
   "execution_count": 47,
   "id": "00046043",
   "metadata": {},
   "outputs": [],
   "source": [
    "#As we have month and year seperately we gonna drop \"Month-Year\"\n",
    "dataset.drop(['Month-Year'],axis=1,inplace=True)"
   ]
  },
  {
   "cell_type": "code",
   "execution_count": 52,
   "id": "cdb48eb8",
   "metadata": {},
   "outputs": [],
   "source": [
    "#Renaming the column name \n",
    "dataset.rename(columns={'Number of Tractor Sold':'Tractor-Sales'},inplace=True)\n",
    "dataset.set_index(dates,inplace=True)"
   ]
  },
  {
   "cell_type": "code",
   "execution_count": 53,
   "id": "c998ce9f",
   "metadata": {},
   "outputs": [
    {
     "data": {
      "text/html": [
       "<div>\n",
       "<style scoped>\n",
       "    .dataframe tbody tr th:only-of-type {\n",
       "        vertical-align: middle;\n",
       "    }\n",
       "\n",
       "    .dataframe tbody tr th {\n",
       "        vertical-align: top;\n",
       "    }\n",
       "\n",
       "    .dataframe thead th {\n",
       "        text-align: right;\n",
       "    }\n",
       "</style>\n",
       "<table border=\"1\" class=\"dataframe\">\n",
       "  <thead>\n",
       "    <tr style=\"text-align: right;\">\n",
       "      <th></th>\n",
       "      <th>Tractor-Sales</th>\n",
       "      <th>month</th>\n",
       "      <th>year</th>\n",
       "    </tr>\n",
       "  </thead>\n",
       "  <tbody>\n",
       "    <tr>\n",
       "      <th>2003-01-01</th>\n",
       "      <td>141</td>\n",
       "      <td>Jan</td>\n",
       "      <td>2003</td>\n",
       "    </tr>\n",
       "    <tr>\n",
       "      <th>2003-02-01</th>\n",
       "      <td>157</td>\n",
       "      <td>Feb</td>\n",
       "      <td>2003</td>\n",
       "    </tr>\n",
       "    <tr>\n",
       "      <th>2003-03-01</th>\n",
       "      <td>185</td>\n",
       "      <td>Mar</td>\n",
       "      <td>2003</td>\n",
       "    </tr>\n",
       "    <tr>\n",
       "      <th>2003-04-01</th>\n",
       "      <td>199</td>\n",
       "      <td>Apr</td>\n",
       "      <td>2003</td>\n",
       "    </tr>\n",
       "    <tr>\n",
       "      <th>2003-05-01</th>\n",
       "      <td>203</td>\n",
       "      <td>May</td>\n",
       "      <td>2003</td>\n",
       "    </tr>\n",
       "  </tbody>\n",
       "</table>\n",
       "</div>"
      ],
      "text/plain": [
       "            Tractor-Sales month  year\n",
       "2003-01-01            141   Jan  2003\n",
       "2003-02-01            157   Feb  2003\n",
       "2003-03-01            185   Mar  2003\n",
       "2003-04-01            199   Apr  2003\n",
       "2003-05-01            203   May  2003"
      ]
     },
     "execution_count": 53,
     "metadata": {},
     "output_type": "execute_result"
    }
   ],
   "source": [
    "dataset.head()"
   ]
  },
  {
   "cell_type": "code",
   "execution_count": 57,
   "id": "10032aca",
   "metadata": {},
   "outputs": [],
   "source": [
    "dataset=dataset[['month','year','Tractor-Sales']] # Rearranging the columns"
   ]
  },
  {
   "cell_type": "code",
   "execution_count": 58,
   "id": "15c09c92",
   "metadata": {},
   "outputs": [
    {
     "data": {
      "text/html": [
       "<div>\n",
       "<style scoped>\n",
       "    .dataframe tbody tr th:only-of-type {\n",
       "        vertical-align: middle;\n",
       "    }\n",
       "\n",
       "    .dataframe tbody tr th {\n",
       "        vertical-align: top;\n",
       "    }\n",
       "\n",
       "    .dataframe thead th {\n",
       "        text-align: right;\n",
       "    }\n",
       "</style>\n",
       "<table border=\"1\" class=\"dataframe\">\n",
       "  <thead>\n",
       "    <tr style=\"text-align: right;\">\n",
       "      <th></th>\n",
       "      <th>month</th>\n",
       "      <th>year</th>\n",
       "      <th>Tractor-Sales</th>\n",
       "    </tr>\n",
       "  </thead>\n",
       "  <tbody>\n",
       "    <tr>\n",
       "      <th>2003-01-01</th>\n",
       "      <td>Jan</td>\n",
       "      <td>2003</td>\n",
       "      <td>141</td>\n",
       "    </tr>\n",
       "    <tr>\n",
       "      <th>2003-02-01</th>\n",
       "      <td>Feb</td>\n",
       "      <td>2003</td>\n",
       "      <td>157</td>\n",
       "    </tr>\n",
       "  </tbody>\n",
       "</table>\n",
       "</div>"
      ],
      "text/plain": [
       "           month  year  Tractor-Sales\n",
       "2003-01-01   Jan  2003            141\n",
       "2003-02-01   Feb  2003            157"
      ]
     },
     "execution_count": 58,
     "metadata": {},
     "output_type": "execute_result"
    }
   ],
   "source": [
    "dataset.head(2)"
   ]
  },
  {
   "cell_type": "code",
   "execution_count": 61,
   "id": "9be5356f",
   "metadata": {},
   "outputs": [],
   "source": [
    "#Seperating Tractor-sales column\n",
    "sales_ts=dataset['Tractor-Sales']"
   ]
  },
  {
   "cell_type": "code",
   "execution_count": 62,
   "id": "07d100f9",
   "metadata": {},
   "outputs": [
    {
     "data": {
      "text/plain": [
       "Rolling [window=2,center=False,axis=0]"
      ]
     },
     "execution_count": 62,
     "metadata": {},
     "output_type": "execute_result"
    }
   ],
   "source": [
    "sales_ts.rolling(window=2)"
   ]
  },
  {
   "cell_type": "code",
   "execution_count": 63,
   "id": "92a29b28",
   "metadata": {},
   "outputs": [],
   "source": [
    "rolemean=sales_ts.rolling(window=12).mean()\n",
    "rolestd=sales_ts.rolling(window=12).std()"
   ]
  },
  {
   "cell_type": "code",
   "execution_count": 64,
   "id": "45fedbb3",
   "metadata": {},
   "outputs": [
    {
     "data": {
      "text/plain": [
       "(1.1088250591467372,\n",
       " 0.995291241524842,\n",
       " 14,\n",
       " 129,\n",
       " {'1%': -3.482087964046026,\n",
       "  '5%': -2.8842185101614626,\n",
       "  '10%': -2.578864381347275},\n",
       " 1082.5357724796872)"
      ]
     },
     "execution_count": 64,
     "metadata": {},
     "output_type": "execute_result"
    }
   ],
   "source": [
    "#Checking wheather the data is stationary or non stationary\n",
    "from statsmodels.tsa.stattools import adfuller\n",
    "dftest=adfuller(sales_ts,autolag='AIC')\n",
    "#st=adfuller(sales_ts,autolag='AIC')\n",
    "dftest"
   ]
  },
  {
   "cell_type": "markdown",
   "id": "ece842ef",
   "metadata": {},
   "source": [
    "#### From the above data it has been clear that the data is non stationary one so lets make it stationary"
   ]
  },
  {
   "cell_type": "code",
   "execution_count": 65,
   "id": "9d42dc8d",
   "metadata": {},
   "outputs": [],
   "source": [
    "from statsmodels.tsa.seasonal import seasonal_decompose\n",
    "decomposition=seasonal_decompose(sales_ts,model='multiplicative')\n",
    "trend=decomposition.trend\n",
    "seasonal=decomposition.seasonal\n",
    "residual=decomposition.resid"
   ]
  },
  {
   "cell_type": "code",
   "execution_count": 66,
   "id": "03b48674",
   "metadata": {},
   "outputs": [
    {
     "data": {
      "text/plain": [
       "2003-01-01     NaN\n",
       "2003-02-01    16.0\n",
       "2003-03-01    28.0\n",
       "Freq: MS, Name: Tractor-Sales, dtype: float64"
      ]
     },
     "execution_count": 66,
     "metadata": {},
     "output_type": "execute_result"
    }
   ],
   "source": [
    "#Differencing the data to make it stationary\n",
    "sales_ts.diff(periods=1).head(3)"
   ]
  },
  {
   "cell_type": "code",
   "execution_count": 67,
   "id": "b0b52438",
   "metadata": {},
   "outputs": [],
   "source": [
    "import warnings\n",
    "import itertools\n",
    "import statsmodels.api as sm\n",
    "import statsmodels.tsa.api as smt\n",
    "import statsmodels.formula.api as smf"
   ]
  },
  {
   "cell_type": "code",
   "execution_count": 68,
   "id": "4594d03e",
   "metadata": {},
   "outputs": [
    {
     "data": {
      "text/plain": [
       "144"
      ]
     },
     "execution_count": 68,
     "metadata": {},
     "output_type": "execute_result"
    }
   ],
   "source": [
    "sales_ts_log = np.log10(sales_ts)\n",
    "len(sales_ts_log)\n"
   ]
  },
  {
   "cell_type": "code",
   "execution_count": 69,
   "id": "b3ec1e3a",
   "metadata": {},
   "outputs": [],
   "source": [
    "#dropping the empty columns\n",
    "sales_ts_log.dropna(inplace=True)"
   ]
  },
  {
   "cell_type": "code",
   "execution_count": 70,
   "id": "9e16ff83",
   "metadata": {},
   "outputs": [],
   "source": [
    "import statsmodels.tsa.api as smt\n",
    "sales_ts_log = np.log10(sales_ts)\n",
    "sales_ts_log.dropna(inplace=True)\n",
    "sales_ts_log.head(5)\n",
    "\n",
    "sales_ts_log_diff = sales_ts_log.diff(periods=1) # same as ts_log_diff = ts_log - ts_log.shift(periods=1)\n",
    "sales_ts_log_diff.dropna(inplace=True)"
   ]
  },
  {
   "cell_type": "code",
   "execution_count": 71,
   "id": "86d84f10",
   "metadata": {},
   "outputs": [
    {
     "name": "stdout",
     "output_type": "stream",
     "text": [
      "Best SARIMAX(1, 1, 0)x(1, 0, 1, 12)12 model - AIC:-732.7302038054515\n"
     ]
    }
   ],
   "source": [
    "#ARIMA model to get best p,d,q paramaters\n",
    "p = d = q = range(0, 2)\n",
    "pdq = list(itertools.product(p, d, q))\n",
    "pdq\n",
    "seasonal_pdq = [(x[0], x[1], x[2], 12) for x in list(itertools.product(p, d, q))]\n",
    "seasonal_pdq\n",
    "import sys\n",
    "warnings.filterwarnings(\"ignore\") # specify to ignore warning messages\n",
    "best_aic = np.inf\n",
    "best_pdq = None\n",
    "best_seasonal_pdq = None\n",
    "temp_model = None\n",
    "for param in pdq:\n",
    "    for param_seasonal in seasonal_pdq:\n",
    "        \n",
    "        try:\n",
    "            temp_model = sm.tsa.statespace.SARIMAX(sales_ts_log,\n",
    "                                             order = param,\n",
    "                                             seasonal_order = param_seasonal,\n",
    "                                             enforce_stationarity=True,\n",
    "                                             enforce_invertibility=True)\n",
    "            results = temp_model.fit()\n",
    "            if results.aic < best_aic:\n",
    "                best_aic = results.aic\n",
    "                best_pdq = param\n",
    "                best_seasonal_pdq = param_seasonal\n",
    "        except:\n",
    "            print(\"Unexpected error:\", sys.exc_info()[0])\n",
    "            continue\n",
    "print(\"Best SARIMAX{}x{}12 model - AIC:{}\".format(best_pdq, best_seasonal_pdq, best_aic))\n"
   ]
  },
  {
   "cell_type": "code",
   "execution_count": 25,
   "id": "730c178b",
   "metadata": {},
   "outputs": [
    {
     "name": "stdout",
     "output_type": "stream",
     "text": [
      "                                     SARIMAX Results                                      \n",
      "==========================================================================================\n",
      "Dep. Variable:                      Tractor-Sales   No. Observations:                  144\n",
      "Model:             SARIMAX(0, 1, 1)x(1, 0, 1, 12)   Log Likelihood                 369.768\n",
      "Date:                            Fri, 07 Apr 2023   AIC                           -731.535\n",
      "Time:                                    12:47:23   BIC                           -719.684\n",
      "Sample:                                01-01-2003   HQIC                          -726.720\n",
      "                                     - 12-01-2014                                         \n",
      "Covariance Type:                              opg                                         \n",
      "==============================================================================\n",
      "                 coef    std err          z      P>|z|      [0.025      0.975]\n",
      "------------------------------------------------------------------------------\n",
      "ma.L1         -0.3406      0.069     -4.953      0.000      -0.475      -0.206\n",
      "ar.S.L12       0.9855      0.009    105.839      0.000       0.967       1.004\n",
      "ma.S.L12      -0.4733      0.104     -4.569      0.000      -0.676      -0.270\n",
      "sigma2         0.0003   3.08e-05      8.700      0.000       0.000       0.000\n",
      "===================================================================================\n",
      "Ljung-Box (L1) (Q):                   0.03   Jarque-Bera (JB):                 0.93\n",
      "Prob(Q):                              0.86   Prob(JB):                         0.63\n",
      "Heteroskedasticity (H):               0.57   Skew:                             0.09\n",
      "Prob(H) (two-sided):                  0.05   Kurtosis:                         3.35\n",
      "===================================================================================\n",
      "\n",
      "Warnings:\n",
      "[1] Covariance matrix calculated using the outer product of gradients (complex-step).\n"
     ]
    }
   ],
   "source": [
    "#Results of ARIMA Model\n",
    "best_model = sm.tsa.statespace.SARIMAX(sales_ts_log,\n",
    "                                      order=(0, 1, 1),\n",
    "                                      seasonal_order=(1, 0, 1, 12),\n",
    "                                      enforce_stationarity=True,\n",
    "                                      enforce_invertibility=True)\n",
    "best_results = best_model.fit()\n",
    "print(best_results.summary())"
   ]
  },
  {
   "cell_type": "code",
   "execution_count": 73,
   "id": "27c41122",
   "metadata": {},
   "outputs": [
    {
     "data": {
      "text/plain": [
       "0.000868770753240767"
      ]
     },
     "execution_count": 73,
     "metadata": {},
     "output_type": "execute_result"
    }
   ],
   "source": [
    "pred_dynamic = best_results.get_prediction(start=pd.to_datetime('2012-01-01'), dynamic=True, full_results=True)\n",
    "pred_dynamic_ci = pred_dynamic.conf_int()\n",
    "sales_ts_truth = sales_ts_log['2011-01-01':]\n",
    "sales_ts_forecasted = pred_dynamic.predicted_mean\n",
    "#calculating the mean squared error \n",
    "mse = ((sales_ts_forecasted - sales_ts_truth) ** 2).mean()\n",
    "mse"
   ]
  },
  {
   "cell_type": "code",
   "execution_count": 74,
   "id": "d784742e",
   "metadata": {},
   "outputs": [
    {
     "data": {
      "image/png": "[encoded data removed]",
      "text/plain": [
       "<Figure size 720x432 with 1 Axes>"
      ]
     },
     "metadata": {
      "needs_background": "light"
     },
     "output_type": "display_data"
    }
   ],
   "source": [
    "#Plotting the existing tractor sales data \n",
    "axis = sales_ts['2006':].plot(label='Observed', figsize=(10, 6))\n",
    "np.power(10, pred_dynamic.predicted_mean).plot(ax=axis, label='Dynamic Forecast', alpha=0.7)\n",
    "axis.fill_between(pred_dynamic_ci.index, pred_dynamic_ci.iloc[:, 0], pred_dynamic_ci.iloc[:, 1], color='k', alpha=.25)\n",
    "axis.fill_betweenx(axis.get_ylim(), pd.to_datetime('2011-01-01'), sales_ts.index[-1], alpha=.1, zorder=-1)\n",
    "axis.set_xlabel('Years')\n",
    "axis.set_ylabel('Tractor Sales')\n",
    "plt.legend(loc='best')\n",
    "plt.show()\n",
    "plt.close()"
   ]
  },
  {
   "cell_type": "code",
   "execution_count": 75,
   "id": "b918d903",
   "metadata": {},
   "outputs": [],
   "source": [
    "#Forecast sales using the best fit ARIMA model\n",
    "n_steps = 50\n",
    "pred_uc_99 = best_results.get_forecast(steps=50, alpha=0.01) # alpha=0.01 signifies 99% confidence interval\n",
    "pred_uc_95 = best_results.get_forecast(steps=50, alpha=0.05) # alpha=0.05 signifies 95% Cofidence interval\n",
    "pred_ci_99 = pred_uc_99.conf_int()\n",
    "pred_ci_95 = pred_uc_95.conf_int()\n",
    "idx = pd.date_range(sales_ts.index[-1], periods=n_steps, freq='MS')\n",
    "fc_95 = pd.DataFrame(np.column_stack([np.power(10, pred_uc_95.predicted_mean), np.power(10, pred_ci_95)]), \n",
    "                     index=idx, columns=['forecast', 'lower_ci_95', 'upper_ci_95'])\n",
    "fc_99 = pd.DataFrame(np.column_stack([np.power(10, pred_ci_99)]), \n",
    "                     index=idx, columns=['lower_ci_99', 'upper_ci_99'])\n",
    "fc_all = fc_95.combine_first(fc_99)\n",
    "fc_all = fc_all[['forecast', 'lower_ci_95', 'upper_ci_95', 'lower_ci_99', 'upper_ci_99']] # just reordering columns\n"
   ]
  },
  {
   "cell_type": "code",
   "execution_count": 76,
   "id": "42c87aee",
   "metadata": {},
   "outputs": [
    {
     "data": {
      "text/html": [
       "<div>\n",
       "<style scoped>\n",
       "    .dataframe tbody tr th:only-of-type {\n",
       "        vertical-align: middle;\n",
       "    }\n",
       "\n",
       "    .dataframe tbody tr th {\n",
       "        vertical-align: top;\n",
       "    }\n",
       "\n",
       "    .dataframe thead th {\n",
       "        text-align: right;\n",
       "    }\n",
       "</style>\n",
       "<table border=\"1\" class=\"dataframe\">\n",
       "  <thead>\n",
       "    <tr style=\"text-align: right;\">\n",
       "      <th></th>\n",
       "      <th>forecast</th>\n",
       "      <th>lower_ci_95</th>\n",
       "      <th>upper_ci_95</th>\n",
       "      <th>lower_ci_99</th>\n",
       "      <th>upper_ci_99</th>\n",
       "    </tr>\n",
       "  </thead>\n",
       "  <tbody>\n",
       "    <tr>\n",
       "      <th>2014-12-01</th>\n",
       "      <td>567.594542</td>\n",
       "      <td>527.162921</td>\n",
       "      <td>611.127132</td>\n",
       "      <td>527.162921</td>\n",
       "      <td>611.127132</td>\n",
       "    </tr>\n",
       "    <tr>\n",
       "      <th>2015-01-01</th>\n",
       "      <td>565.244379</td>\n",
       "      <td>517.361293</td>\n",
       "      <td>617.559165</td>\n",
       "      <td>517.361293</td>\n",
       "      <td>617.559165</td>\n",
       "    </tr>\n",
       "    <tr>\n",
       "      <th>2015-02-01</th>\n",
       "      <td>662.159528</td>\n",
       "      <td>598.522544</td>\n",
       "      <td>732.562614</td>\n",
       "      <td>598.522544</td>\n",
       "      <td>732.562614</td>\n",
       "    </tr>\n",
       "    <tr>\n",
       "      <th>2015-03-01</th>\n",
       "      <td>753.442630</td>\n",
       "      <td>673.491207</td>\n",
       "      <td>842.885240</td>\n",
       "      <td>673.491207</td>\n",
       "      <td>842.885240</td>\n",
       "    </tr>\n",
       "    <tr>\n",
       "      <th>2015-04-01</th>\n",
       "      <td>847.359691</td>\n",
       "      <td>749.811187</td>\n",
       "      <td>957.599005</td>\n",
       "      <td>749.811187</td>\n",
       "      <td>957.599005</td>\n",
       "    </tr>\n",
       "  </tbody>\n",
       "</table>\n",
       "</div>"
      ],
      "text/plain": [
       "              forecast  lower_ci_95  upper_ci_95  lower_ci_99  upper_ci_99\n",
       "2014-12-01  567.594542   527.162921   611.127132   527.162921   611.127132\n",
       "2015-01-01  565.244379   517.361293   617.559165   517.361293   617.559165\n",
       "2015-02-01  662.159528   598.522544   732.562614   598.522544   732.562614\n",
       "2015-03-01  753.442630   673.491207   842.885240   673.491207   842.885240\n",
       "2015-04-01  847.359691   749.811187   957.599005   749.811187   957.599005"
      ]
     },
     "execution_count": 76,
     "metadata": {},
     "output_type": "execute_result"
    }
   ],
   "source": [
    "fc_all.head()"
   ]
  },
  {
   "cell_type": "code",
   "execution_count": 57,
   "id": "22b582c8",
   "metadata": {},
   "outputs": [
    {
     "data": {
      "image/png": "[encoded data removed]",
      "text/plain": [
       "<Figure size 1080x432 with 1 Axes>"
      ]
     },
     "metadata": {
      "needs_background": "light"
     },
     "output_type": "display_data"
    }
   ],
   "source": [
    "#plotting the forecasted graph and the existing graph \n",
    "axis = sales_ts.plot(label='Observed', figsize=(15, 6))\n",
    "fc_all['forecast'].plot(ax=axis, label='Forecast', alpha=0.7)\n",
    "axis.fill_between(fc_all.index, fc_all['lower_ci_95'], fc_all['upper_ci_95'], color='k', alpha=.25)\n",
    "axis.fill_between(fc_all.index, fc_all['lower_ci_99'], fc_all['upper_ci_99'], color='k', alpha=.75)\n",
    "axis.set_xlabel('Years')\n",
    "axis.set_ylabel('Tractor Sales')\n",
    "plt.legend(loc='best')\n",
    "plt.show()"
   ]
  },
  {
   "cell_type": "markdown",
   "id": "8fceb139",
   "metadata": {},
   "source": [
    "#### I hope you find the notebook useful.Do check the notes that I have attached with this ipynb.\n",
    "\n",
    "                    ==>Poojha Muralidharan - Artificial Intelligence and Data Science"
   ]
  }
 ],
 "metadata": {
  "kernelspec": {
   "display_name": "Python 3",
   "language": "python",
   "name": "python3"
  },
  "language_info": {
   "codemirror_mode": {
    "name": "ipython",
    "version": 3
   },
   "file_extension": ".py",
   "mimetype": "text/x-python",
   "name": "python",
   "nbconvert_exporter": "python",
   "pygments_lexer": "ipython3",
   "version": "3.8.8"
  }
 },
 "nbformat": 4,
 "nbformat_minor": 5
}
